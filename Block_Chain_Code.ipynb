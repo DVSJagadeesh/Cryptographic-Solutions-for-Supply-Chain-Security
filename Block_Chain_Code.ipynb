{
  "nbformat": 4,
  "nbformat_minor": 0,
  "metadata": {
    "colab": {
      "provenance": []
    },
    "kernelspec": {
      "name": "python3",
      "display_name": "Python 3"
    },
    "language_info": {
      "name": "python"
    }
  },
  "cells": [
    {
      "cell_type": "code",
      "execution_count": 147,
      "metadata": {
        "id": "mY-C589JgyGF"
      },
      "outputs": [],
      "source": [
        "from dataclasses import dataclass, field\n",
        "from typing import *\n",
        "import rsa\n",
        "import hashlib\n",
        "import time\n",
        "\n",
        "@dataclass\n",
        "class Transaction:\n",
        "    sender_address: rsa.PublicKey\n",
        "    recipient_address: rsa.PublicKey\n",
        "    value: float\n",
        "    signature: bytes = field(default=b'')\n",
        "\n",
        "    def sign(self, sender_private_key: rsa.PrivateKey) -> None:\n",
        "        \"\"\"Takes a private key, which the sender should never share, and signs this transaction to verify\n",
        "        they want to transfer the tokens. We sign the core attributes of the transaction using the private\n",
        "        key. We will use SHA-256 as the signature hashing algorithm.\"\"\"\n",
        "        self.signature = rsa.sign(self.get_core_data(), sender_private_key, 'SHA-256')\n",
        "        self.validate()\n",
        "\n",
        "    def get_core_data(self) -> bytes:\n",
        "        \"\"\"Provides the core info needed to sign the transaction--basically everything BUT the\n",
        "        signature.\"\"\"\n",
        "        return (str(self.sender_address) + str(self.recipient_address) + str(self.value)).encode()\n",
        "\n",
        "    def validate(self) -> None:\n",
        "        try:\n",
        "            rsa.verify(self.get_core_data(), self.signature, self.sender_address)\n",
        "        except Exception as e:\n",
        "            self.validation_failure_reason = str(e)\n",
        "            raise\n",
        "\n",
        "    def get_validation_failure_reason(self) -> Optional[str]:\n",
        "        return self.validation_failure_reason\n",
        "@dataclass\n",
        "class Block:\n",
        "    num: int\n",
        "    timestamp: float\n",
        "    prev_block_hash: str\n",
        "    transactions: List[Transaction]\n",
        "    block_hash: str = field(default=\"\")\n",
        "    nonce: int = field(default=0)\n",
        "\n",
        "    def hash(self) -> str:\n",
        "        \"\"\"Uses SHA-256 to hash the header of the block (the core attributes of the block).\n",
        "        Saves the hash to the block object for later use and also returns the hash in hex format.\"\"\"\n",
        "        self.block_hash = hashlib.sha256(self.get_header()).hexdigest()\n",
        "        return self.block_hash\n",
        "\n",
        "    def get_header(self) -> bytes:\n",
        "        \"\"\"Returns a string that represents the core attributes that uniquely identify the block AND link\n",
        "        it to the previous block (forming the chain). These attributes include: block num, timestamp,\n",
        "        previous block hash, transactions (real chains use a Merkle root hash for efficiency), and a nonce.\"\"\"\n",
        "        return (str(self.num) + str(self.timestamp) + str(self.prev_block_hash) + str(self.nonce) + str(self.transactions)).encode()\n",
        "\n",
        "    def validate(self, proof_of_work_func: Callable[[str], bool]) -> bool:\n",
        "        \"\"\"Using the given function, ensure that this block hashes correctly, adhering to the agreed-upon\n",
        "        consensus algorithm.\"\"\"\n",
        "        return proof_of_work_func(self.hash())\n",
        "\n",
        "REWARD_AMOUNT = 2.0\n",
        "\n",
        "class BlockchainNode:\n",
        "\n",
        "    def __init__(self, miner_address) -> None:\n",
        "        self.miner_address: rsa.PublicKey = miner_address\n",
        "        self.blocks: List[Block] = []\n",
        "        self.pending_transactions: List[Transaction] = []\n",
        "        self.proof_of_work_func: Callable[[str], bool] = lambda x: x.endswith('000')\n",
        "\n",
        "        self.mine_block()\n",
        "    def submit_transaction(self, transaction: Transaction) -> None:\n",
        "        \"\"\"This is used to submit a new transaction to the chain. End-users send transactions and aren't\n",
        "        concerned about the blocks, per se. This function takes a signed transaction will validate it is\n",
        "        cryptographically sound. It will then need to check that there is sufficient balance to make the\n",
        "        transfer. If these are good, we will add the transaction to a list of those that will be considered\n",
        "        when the next block is mined.\"\"\"\n",
        "\n",
        "        try:\n",
        "            # Ensure the transaction is properly signed by the private key\n",
        "            transaction.validate()\n",
        "\n",
        "            # Make sure the funds exist for the requested transaction\n",
        "            sender_balance = self.get_balance(transaction.sender_address)\n",
        "\n",
        "            if sender_balance < transaction.value:\n",
        "                raise Exception(f\"Insufficient tokens available ({transaction.value} required, {sender_balance} available)\")\n",
        "\n",
        "            # Transaction checks out--add to the list of pending transactions!\n",
        "            self.pending_transactions.append(transaction)\n",
        "            print(\"Transaction submitted successfully.\")\n",
        "\n",
        "        except Exception as e:\n",
        "            print(f\"Transaction submission failed: {e}\")\n",
        "\n",
        "            # Print additional information for better understanding of the failure\n",
        "            print(f\"Transaction Details:\")\n",
        "            print(f\"Sender Public Key: {transaction.sender_address}\")\n",
        "            print(f\"Recipient Public Key: {transaction.recipient_address}\")\n",
        "            print(f\"Value: {transaction.value}\")\n",
        "            print(f\"Signature: {transaction.signature}\")\n",
        "\n",
        "            # Check if there is a validation failure reason\n",
        "            validation_failure_reason = transaction.get_validation_failure_reason()\n",
        "            if validation_failure_reason:\n",
        "                print(f\"Validation Failure Reason: {validation_failure_reason}\")\n",
        "\n",
        "            # Optionally, re-raise the exception to halt program execution if needed\n",
        "            raise\n",
        "\n",
        "\n",
        "\n",
        "    def mine_block(self) -> None:\n",
        "        \"\"\"This function bundles all pending transactions and mines a new block. Mining is the process\n",
        "        by which a node creates a new block. This is where the decentralized consensus algorithm comes in.\n",
        "        We will be using a proof-of-work algorithm that is computationally expensive. This prevents bad actor\n",
        "        nodes from flooding the P2P network with invalid transactions, blocks, or chains. It is too expensive to\n",
        "        rewrite history, making the blockchain more secure from these kinds of attacks. This function will mine\n",
        "        the new block and then append it to the chain automatically.\n",
        "\n",
        "        Nodes that successfully mine a new block get a token award. This is how new tokens show up in the chain\n",
        "        and this is supposed to incentivize more peers on the network.\n",
        "        \"\"\"\n",
        "\n",
        "        # Make sure we have a genesis block to start the chain\n",
        "        if len(self.blocks) <= 0:\n",
        "            prev_hash = \"-\"\n",
        "            num = 0\n",
        "        else:\n",
        "            prev_block = self.blocks[-1]\n",
        "            prev_hash = prev_block.hash()\n",
        "            num = prev_block.num + 1\n",
        "\n",
        "        new_block = Block(\n",
        "            num=num,\n",
        "            timestamp=time.time(),\n",
        "            prev_block_hash=prev_hash,\n",
        "            transactions=self.pending_transactions\n",
        "        )\n",
        "\n",
        "        proof = 0\n",
        "        while not new_block.validate(self.proof_of_work_func):\n",
        "            proof += 1\n",
        "            new_block.nonce = proof\n",
        "\n",
        "        self.blocks.append(new_block)\n",
        "        self.pending_transactions = []  # reset the list of pending transactions\n",
        "\n",
        "        # Reward the miner\n",
        "        reward_transaction = Transaction(\n",
        "            sender_address=rsa.PublicKey(0, 0),  # 0 address indicates a reward\n",
        "            recipient_address=self.miner_address,\n",
        "            value=REWARD_AMOUNT\n",
        "        )\n",
        "\n",
        "        self.pending_transactions.append(reward_transaction)\n",
        "        print(f\"Successfully mined new block {new_block.num}!\")\n",
        "\n",
        "    def validate_chain(self) -> bool:\n",
        "        \"\"\"This function validates the integrity of the entire blockchain. It will check the\n",
        "        hash of each block and make sure that they are consistent with the proof-of-work\n",
        "        consensus algorithm. Additionally, it will check that each block correctly points to the\n",
        "        previous block (by including the hash of the previous block). If any part of the blockchain\n",
        "        is invalid, this function returns False. Otherwise, it returns True.\"\"\"\n",
        "        for i in range(1, len(self.blocks)):\n",
        "            prev_block = self.blocks[i - 1]\n",
        "            current_block = self.blocks[i]\n",
        "\n",
        "            # Check if the previous block hash matches\n",
        "            if current_block.prev_block_hash != prev_block.hash():\n",
        "                print(f\"Blockchain validation failed at block {current_block.num}: Previous block hash mismatch.\")\n",
        "                return False\n",
        "\n",
        "            # Check if the current block hash is valid according to the proof-of-work function\n",
        "            if not current_block.validate(self.proof_of_work_func):\n",
        "                print(f\"Blockchain validation failed at block {current_block.num}: Invalid proof-of-work.\")\n",
        "                return False\n",
        "\n",
        "        print(\"Successfully validated chain of size {}!\".format(len(self.blocks)))\n",
        "        return True\n",
        "\n",
        "    def get_balance(self, address: rsa.PublicKey) -> float:\n",
        "        \"\"\"Calculates the current balance of the given address by iterating through\n",
        "        all the blocks and transactions in the blockchain.\"\"\"\n",
        "        balance = 0.0\n",
        "\n",
        "        for block in self.blocks:\n",
        "            for transaction in block.transactions:\n",
        "                if transaction.sender_address == address:\n",
        "                    balance -= transaction.value\n",
        "                if transaction.recipient_address == address:\n",
        "                    balance += transaction.value\n",
        "\n",
        "        return balance"
      ]
    },
    {
      "cell_type": "code",
      "source": [
        "# Key Generation\n",
        "import rsa\n",
        "\n",
        "# Blockchain Node Key Pair\n",
        "public_key, private_key = rsa.newkeys(512)\n",
        "print(\"Blockchain Node Public Key:\", public_key)\n",
        "print(\"Blockchain Node Private Key:\", private_key)\n",
        "\n",
        "# Receiving Address Key Pair\n",
        "receiving_public_key, receiving_private_key = rsa.newkeys(512)\n",
        "print(\"\\nReceiving Address Public Key:\", receiving_public_key)\n",
        "print(\"Receiving Address Private Key:\", receiving_private_key)\n"
      ],
      "metadata": {
        "colab": {
          "base_uri": "https://localhost:8080/"
        },
        "id": "U0kvuNtZhtf7",
        "outputId": "0e51fe4b-7891-4b5f-bd9f-b94cb4a60a0f"
      },
      "execution_count": 148,
      "outputs": [
        {
          "output_type": "stream",
          "name": "stdout",
          "text": [
            "Blockchain Node Public Key: PublicKey(8033280519126748152862541805898902269863348704797156188637998775386139881358258929999785158108508023602693802533646486324616880302029305579740015900095291, 65537)\n",
            "Blockchain Node Private Key: PrivateKey(8033280519126748152862541805898902269863348704797156188637998775386139881358258929999785158108508023602693802533646486324616880302029305579740015900095291, 65537, 6315741928193321308211277088498724986720616476412919001778733950314644506879878105354867806621052804729635542924824178549631725716130883307908152564477273, 6590931002713174277155744953758248758560548879865727915062687586548247844181757509, 1218838509433618234064413514100915128252053168863639250339587725437539199)\n",
            "\n",
            "Receiving Address Public Key: PublicKey(9220855083508811264844086483653192883836863027394105807409765430804128650054401752397092005660051437380278495521898156768158047925560458029993839481113389, 65537)\n",
            "Receiving Address Private Key: PrivateKey(9220855083508811264844086483653192883836863027394105807409765430804128650054401752397092005660051437380278495521898156768158047925560458029993839481113389, 65537, 5039060756761342073186001150678839482042468366359764705317313104112941809965990174063951917376493946315090076220314324777477105513503067482752096493143073, 5638902712994755675562581804885286126845324740030209709494366110659482285686615961, 1635221523198034095439231979865998520662518572577824236142893959270663349)\n"
          ]
        }
      ]
    },
    {
      "cell_type": "code",
      "source": [
        "# Blockchain Node Initialization\n",
        "node = BlockchainNode(public_key)\n",
        "\n",
        "# Transaction Creation and Signing\n",
        "t1 = Transaction(public_key, receiving_public_key, 0.5)\n",
        "t1.sign(private_key)\n",
        "print(\"\\nTransaction 1:\")\n",
        "print(\"Sender Public Key:\", t1.sender_address)\n",
        "print(\"Recipient Public Key:\", t1.recipient_address)\n",
        "print(\"Value:\", t1.value)\n",
        "print(\"Signature:\", t1.signature)\n"
      ],
      "metadata": {
        "colab": {
          "base_uri": "https://localhost:8080/"
        },
        "id": "ciefFDTCh_q6",
        "outputId": "e7643f3e-eabe-4c17-b40d-7006fc658f45"
      },
      "execution_count": 149,
      "outputs": [
        {
          "output_type": "stream",
          "name": "stdout",
          "text": [
            "Successfully mined new block 0!\n",
            "\n",
            "Transaction 1:\n",
            "Sender Public Key: PublicKey(8033280519126748152862541805898902269863348704797156188637998775386139881358258929999785158108508023602693802533646486324616880302029305579740015900095291, 65537)\n",
            "Recipient Public Key: PublicKey(9220855083508811264844086483653192883836863027394105807409765430804128650054401752397092005660051437380278495521898156768158047925560458029993839481113389, 65537)\n",
            "Value: 0.5\n",
            "Signature: b\"I\\xbcQ:\\xa8}\\xbd\\xeb\\x8d\\x85\\x96f\\x8fE\\xbaE\\xe3t\\xf4BX8\\x83\\xa1\\xc2\\xecJ\\xe7\\x062\\x99\\xf0|6\\x92k\\\\K\\xd9\\xaa\\xd1\\x9b\\xedT\\xde\\xd5']\\xb52b\\xda\\xff\\xa1\\x9a4Rd\\x99\\n\\xe6\\xf8_%\"\n"
          ]
        }
      ]
    },
    {
      "cell_type": "code",
      "source": [
        "# Mine the First Block\n",
        "node.mine_block()\n",
        "\n",
        "# Display Block Information\n",
        "first_block = node.blocks[0]\n",
        "print(\"\\nFirst Block Information:\")\n",
        "print(\"Block Number:\", first_block.num)\n",
        "print(\"Timestamp:\", first_block.timestamp)\n",
        "print(\"Previous Block Hash:\", first_block.prev_block_hash)\n",
        "print(\"Transactions:\", first_block.transactions)\n",
        "print(\"Block Hash:\", first_block.block_hash)\n",
        "print(\"Nonce:\", first_block.nonce)\n"
      ],
      "metadata": {
        "colab": {
          "base_uri": "https://localhost:8080/"
        },
        "id": "dqWqmu4jh_2r",
        "outputId": "8c392d08-be09-4c09-f99c-30435a1c3bb7"
      },
      "execution_count": 150,
      "outputs": [
        {
          "output_type": "stream",
          "name": "stdout",
          "text": [
            "Successfully mined new block 1!\n",
            "\n",
            "First Block Information:\n",
            "Block Number: 0\n",
            "Timestamp: 1703089267.2591033\n",
            "Previous Block Hash: -\n",
            "Transactions: []\n",
            "Block Hash: 1c067be1fedb1b9f17656df82ab25af0f16a88893b4c3ebdc0ff1651f7460000\n",
            "Nonce: 269\n"
          ]
        }
      ]
    },
    {
      "cell_type": "code",
      "source": [
        "# Submitting Another Transaction\n",
        "t2 = Transaction(public_key, receiving_public_key, 1.0)\n",
        "t2.sign(private_key)\n",
        "node.submit_transaction(t2)\n",
        "\n",
        "# Mine the Second Block\n",
        "node.mine_block()\n",
        "\n",
        "# Display Updated Balances\n",
        "print(\"\\nUpdated Balances:\")\n",
        "print(\"Blockchain Node Balance:\", node.get_balance(public_key))\n",
        "print(\"Receiving Address Balance:\", node.get_balance(receiving_public_key))\n"
      ],
      "metadata": {
        "colab": {
          "base_uri": "https://localhost:8080/"
        },
        "id": "OKOS98wRh_7e",
        "outputId": "f007f178-b5c2-4efd-f699-206ad2bc5d2e"
      },
      "execution_count": 151,
      "outputs": [
        {
          "output_type": "stream",
          "name": "stdout",
          "text": [
            "Transaction submitted successfully.\n",
            "Successfully mined new block 2!\n",
            "\n",
            "Updated Balances:\n",
            "Blockchain Node Balance: 3.0\n",
            "Receiving Address Balance: 1.0\n"
          ]
        }
      ]
    },
    {
      "cell_type": "code",
      "source": [
        "# Validate the Blockchain\n",
        "node.validate_chain()\n"
      ],
      "metadata": {
        "colab": {
          "base_uri": "https://localhost:8080/"
        },
        "id": "IqSmTK48h_-S",
        "outputId": "b0688b45-418a-4875-a6db-fbd4917bebd8"
      },
      "execution_count": 152,
      "outputs": [
        {
          "output_type": "stream",
          "name": "stdout",
          "text": [
            "Successfully validated chain of size 3!\n"
          ]
        },
        {
          "output_type": "execute_result",
          "data": {
            "text/plain": [
              "True"
            ]
          },
          "metadata": {},
          "execution_count": 152
        }
      ]
    },
    {
      "cell_type": "code",
      "source": [
        "# Transaction 4 (intentional signature modification)\n",
        "t4 = Transaction(public_key, receiving_public_key, 0.8)\n",
        "t4.sign(private_key)\n",
        "t4.signature = b'invalid_signature'\n",
        "\n",
        "try:\n",
        "    node.submit_transaction(t4)\n",
        "    print(\"Transaction 4 submitted successfully.\")\n",
        "except Exception as e:\n",
        "    print(f\"t4 failed\")\n",
        "\n",
        "# Uncomment the following lines based on your testing scenario\n",
        "# node.mine_block()\n",
        "# node.validate_chain()\n"
      ],
      "metadata": {
        "colab": {
          "base_uri": "https://localhost:8080/"
        },
        "id": "LjT99Q8ZgweW",
        "outputId": "f079bf85-7f52-4761-dfde-751f40ca2bec"
      },
      "execution_count": 154,
      "outputs": [
        {
          "output_type": "stream",
          "name": "stdout",
          "text": [
            "Transaction submission failed: Verification failed\n",
            "Transaction Details:\n",
            "Sender Public Key: PublicKey(8033280519126748152862541805898902269863348704797156188637998775386139881358258929999785158108508023602693802533646486324616880302029305579740015900095291, 65537)\n",
            "Recipient Public Key: PublicKey(9220855083508811264844086483653192883836863027394105807409765430804128650054401752397092005660051437380278495521898156768158047925560458029993839481113389, 65537)\n",
            "Value: 0.8\n",
            "Signature: b'invalid_signature'\n",
            "Validation Failure Reason: Verification failed\n",
            "t4 failed\n"
          ]
        }
      ]
    },
    {
      "cell_type": "code",
      "source": [
        "# Transaction 5 (intentional recipient key modification)\n",
        "t5 = Transaction(public_key, receiving_public_key, 1.2)\n",
        "t5.sign(private_key)\n",
        "\n",
        "# Create a new transaction with a different recipient key to simulate a verification failure\n",
        "t5_modified = Transaction(public_key, rsa.newkeys(512)[0], 1.2)\n",
        "t5_modified.signature = t5.signature  # Use the signature from the original transaction\n",
        "\n",
        "try:\n",
        "    node.submit_transaction(t5_modified)\n",
        "    print(\"Transaction submitted successfully.\")\n",
        "except Exception as e:\n",
        "    print(f\"t5 failed\")\n"
      ],
      "metadata": {
        "colab": {
          "base_uri": "https://localhost:8080/"
        },
        "id": "28jPzzF20teg",
        "outputId": "64f8044c-b320-41ea-fcd8-93356f3fe50a"
      },
      "execution_count": 155,
      "outputs": [
        {
          "output_type": "stream",
          "name": "stdout",
          "text": [
            "Transaction submission failed: Verification failed\n",
            "Transaction Details:\n",
            "Sender Public Key: PublicKey(8033280519126748152862541805898902269863348704797156188637998775386139881358258929999785158108508023602693802533646486324616880302029305579740015900095291, 65537)\n",
            "Recipient Public Key: PublicKey(6858075679425024721643534758096336486517575415116396797260703168482205587016441234654512574920167830522413094579043512951733064009843802124441563916905689, 65537)\n",
            "Value: 1.2\n",
            "Signature: b'\\x8b[\\xb0\\x1a\\xd8L\\x89\\x0f\\xfb7\\x0e\\x0c\\x9f)\\x90m.%\\x07\\xb9Ryl\\xf0\"\\x04nQ\\xacb\\x80\\xd5\\xc2\\xcaQy\\x10\\x04\\x11\\xd3t]&\\x82\\xae\\xa1\\xddJ\\x90q*>D\\xf5Cb\\xd3\\x8c\\xa0Q\\xc0\\xeeT\\xb7'\n",
            "Validation Failure Reason: Verification failed\n",
            "t5 failed\n"
          ]
        }
      ]
    }
  ]
}